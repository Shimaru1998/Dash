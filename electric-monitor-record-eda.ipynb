{
 "cells": [
  {
   "cell_type": "code",
   "execution_count": 1,
   "id": "80c860e5",
   "metadata": {
    "_cell_guid": "b1076dfc-b9ad-4769-8c92-a6c4dae69d19",
    "_uuid": "8f2839f25d086af736a60e9eeb907d3b93b6e0e5",
    "execution": {
     "iopub.execute_input": "2024-12-25T06:32:04.226266Z",
     "iopub.status.busy": "2024-12-25T06:32:04.225861Z",
     "iopub.status.idle": "2024-12-25T06:32:04.606157Z",
     "shell.execute_reply": "2024-12-25T06:32:04.604998Z"
    },
    "papermill": {
     "duration": 0.388953,
     "end_time": "2024-12-25T06:32:04.608235",
     "exception": false,
     "start_time": "2024-12-25T06:32:04.219282",
     "status": "completed"
    },
    "tags": []
   },
   "outputs": [],
   "source": [
    "# This Python 3 environment comes with many helpful analytics libraries installed\n",
    "# It is defined by the kaggle/python Docker image: https://github.com/kaggle/docker-python\n",
    "# For example, here's several helpful packages to load\n",
    "\n",
    "import numpy as np # linear algebra\n",
    "import pandas as pd # data processing, CSV file I/O (e.g. pd.read_csv)"
   ]
  },
  {
   "cell_type": "code",
   "execution_count": 2,
   "id": "b98de064",
   "metadata": {
    "execution": {
     "iopub.execute_input": "2024-12-25T06:32:04.619556Z",
     "iopub.status.busy": "2024-12-25T06:32:04.618992Z",
     "iopub.status.idle": "2024-12-25T06:33:19.163765Z",
     "shell.execute_reply": "2024-12-25T06:33:19.162779Z"
    },
    "papermill": {
     "duration": 74.552496,
     "end_time": "2024-12-25T06:33:19.165765",
     "exception": false,
     "start_time": "2024-12-25T06:32:04.613269",
     "status": "completed"
    },
    "tags": []
   },
   "outputs": [
    {
     "name": "stderr",
     "output_type": "stream",
     "text": [
      "<ipython-input-2-1751430ba2be>:1: DtypeWarning: Columns (422,423,424,425,426,427,428,429,430,431,432,433,434,435,436,437,438,439,440,441,442,443,444,445,446,447,448,449,450,451,452,453,454,455,456,457,458,459,460,461,462,463,464,465,466,467,468,469,470,471,472,473,474,475,476,477,478,479,480,481,482,483,484,485,486,487,488,489,490,491,492,493,494,495,496,497,498,499,500,501,502,503,504,505,506,507,508,509,510,511,512,513,514,515,516,517,518,519,520,521,522,523,524,525,526,527,528,529,530,531,532,533,534,535,536,537,538,539,540,541,542,543,544,545,546,547,548,549,550,551,552,553,554,555,556,557,558,559,560,561,562,563,564,565,566,567,568,569,570,571,572,573,574,575,576,577,578,579,580,581,582,583,584,585,586,587,588,589,590,591,592,593,594,595,596,597,598,599,600,601,602,603,604,605,606,607,608,609,610,611,612,613,614,615,616,617,618,619,620,621,622,623,624,625,626,627,628,629,630,631,632,633,634,635,636,637,638,639,640,641,642,643,644,645,646,647,648,649,650,651,652,653,654,655,656,657,658,659,660,661,662,663,664,665,666,667,668,669,670,671,672,673,674,675,676,677,678,679,680,681,682,683,684,685,686,687,688,689,690,691,692,693,694,695,696,697,698,699,700,701,702,703,704,705,706,707,708,709,710,711,712,713,714,715,716,717,718,719,720,721,722,723,724,725,726,727,728,729,730,731,732,733,734,735,736,737,738,739,740,741,742,743,744,745,746,747,748,749,750,751,752,753,754,755,756,757,758,759,760,761,762,763,764,765,766,767,768,769,770,771,772,773,774,775,776,777,778,779,780,781,782,783,784,785,786,787,788,789,790,791,792,793,794,795,796,797,798,799,800,801,802,803,804,805,806,807,808,809,810,811,812,813,814,815,816,817,818,819,820,821,822,823,824,825,826,827,828,829,830,831,832,833,834,835,836,837,838,839,840,841,842,843,844,845,846,847,848) have mixed types. Specify dtype option on import or set low_memory=False.\n",
      "  df = pd.read_csv(\"/kaggle/input/electric-monitor-record/CPM-80_Demo_2022_Q2-Q4.csv\")\n"
     ]
    },
    {
     "data": {
      "text/html": [
       "<div>\n",
       "<style scoped>\n",
       "    .dataframe tbody tr th:only-of-type {\n",
       "        vertical-align: middle;\n",
       "    }\n",
       "\n",
       "    .dataframe tbody tr th {\n",
       "        vertical-align: top;\n",
       "    }\n",
       "\n",
       "    .dataframe thead th {\n",
       "        text-align: right;\n",
       "    }\n",
       "</style>\n",
       "<table border=\"1\" class=\"dataframe\">\n",
       "  <thead>\n",
       "    <tr style=\"text-align: right;\">\n",
       "      <th></th>\n",
       "      <th>Time</th>\n",
       "      <th>Gateway</th>\n",
       "      <th>Station_Number</th>\n",
       "      <th>Loop</th>\n",
       "      <th>Name</th>\n",
       "      <th>Phase_Voltage_V1</th>\n",
       "      <th>Phase_Voltage_V2</th>\n",
       "      <th>Phase_Voltage_V3</th>\n",
       "      <th>Phase_Voltage_Average</th>\n",
       "      <th>Line_Voltage_V12</th>\n",
       "      <th>...</th>\n",
       "      <th>Unnamed: 839</th>\n",
       "      <th>Unnamed: 840</th>\n",
       "      <th>Unnamed: 841</th>\n",
       "      <th>Unnamed: 842</th>\n",
       "      <th>Unnamed: 843</th>\n",
       "      <th>Unnamed: 844</th>\n",
       "      <th>Unnamed: 845</th>\n",
       "      <th>Unnamed: 846</th>\n",
       "      <th>Unnamed: 847</th>\n",
       "      <th>Unnamed: 848</th>\n",
       "    </tr>\n",
       "  </thead>\n",
       "  <tbody>\n",
       "    <tr>\n",
       "      <th>0</th>\n",
       "      <td>2022/4/1 00:00</td>\n",
       "      <td>Gateway1</td>\n",
       "      <td>103</td>\n",
       "      <td>0</td>\n",
       "      <td>(CPM-80)</td>\n",
       "      <td>114.0</td>\n",
       "      <td>113.9</td>\n",
       "      <td>114.0</td>\n",
       "      <td>114.0</td>\n",
       "      <td>197.5</td>\n",
       "      <td>...</td>\n",
       "      <td>NaN</td>\n",
       "      <td>NaN</td>\n",
       "      <td>NaN</td>\n",
       "      <td>NaN</td>\n",
       "      <td>NaN</td>\n",
       "      <td>NaN</td>\n",
       "      <td>NaN</td>\n",
       "      <td>NaN</td>\n",
       "      <td>NaN</td>\n",
       "      <td>NaN</td>\n",
       "    </tr>\n",
       "    <tr>\n",
       "      <th>1</th>\n",
       "      <td>2022/4/1 00:01</td>\n",
       "      <td>Gateway1</td>\n",
       "      <td>103</td>\n",
       "      <td>0</td>\n",
       "      <td>(CPM-80)</td>\n",
       "      <td>114.1</td>\n",
       "      <td>114.0</td>\n",
       "      <td>114.1</td>\n",
       "      <td>114.1</td>\n",
       "      <td>197.6</td>\n",
       "      <td>...</td>\n",
       "      <td>NaN</td>\n",
       "      <td>NaN</td>\n",
       "      <td>NaN</td>\n",
       "      <td>NaN</td>\n",
       "      <td>NaN</td>\n",
       "      <td>NaN</td>\n",
       "      <td>NaN</td>\n",
       "      <td>NaN</td>\n",
       "      <td>NaN</td>\n",
       "      <td>NaN</td>\n",
       "    </tr>\n",
       "    <tr>\n",
       "      <th>2</th>\n",
       "      <td>2022/4/1 00:02</td>\n",
       "      <td>Gateway1</td>\n",
       "      <td>103</td>\n",
       "      <td>0</td>\n",
       "      <td>(CPM-80)</td>\n",
       "      <td>114.2</td>\n",
       "      <td>114.1</td>\n",
       "      <td>114.2</td>\n",
       "      <td>114.2</td>\n",
       "      <td>197.7</td>\n",
       "      <td>...</td>\n",
       "      <td>NaN</td>\n",
       "      <td>NaN</td>\n",
       "      <td>NaN</td>\n",
       "      <td>NaN</td>\n",
       "      <td>NaN</td>\n",
       "      <td>NaN</td>\n",
       "      <td>NaN</td>\n",
       "      <td>NaN</td>\n",
       "      <td>NaN</td>\n",
       "      <td>NaN</td>\n",
       "    </tr>\n",
       "    <tr>\n",
       "      <th>3</th>\n",
       "      <td>2022/4/1 00:03</td>\n",
       "      <td>Gateway1</td>\n",
       "      <td>103</td>\n",
       "      <td>0</td>\n",
       "      <td>(CPM-80)</td>\n",
       "      <td>114.2</td>\n",
       "      <td>114.1</td>\n",
       "      <td>114.2</td>\n",
       "      <td>114.1</td>\n",
       "      <td>197.7</td>\n",
       "      <td>...</td>\n",
       "      <td>NaN</td>\n",
       "      <td>NaN</td>\n",
       "      <td>NaN</td>\n",
       "      <td>NaN</td>\n",
       "      <td>NaN</td>\n",
       "      <td>NaN</td>\n",
       "      <td>NaN</td>\n",
       "      <td>NaN</td>\n",
       "      <td>NaN</td>\n",
       "      <td>NaN</td>\n",
       "    </tr>\n",
       "    <tr>\n",
       "      <th>4</th>\n",
       "      <td>2022/4/1 00:04</td>\n",
       "      <td>Gateway1</td>\n",
       "      <td>103</td>\n",
       "      <td>0</td>\n",
       "      <td>(CPM-80)</td>\n",
       "      <td>114.1</td>\n",
       "      <td>114.0</td>\n",
       "      <td>114.1</td>\n",
       "      <td>114.1</td>\n",
       "      <td>197.6</td>\n",
       "      <td>...</td>\n",
       "      <td>NaN</td>\n",
       "      <td>NaN</td>\n",
       "      <td>NaN</td>\n",
       "      <td>NaN</td>\n",
       "      <td>NaN</td>\n",
       "      <td>NaN</td>\n",
       "      <td>NaN</td>\n",
       "      <td>NaN</td>\n",
       "      <td>NaN</td>\n",
       "      <td>NaN</td>\n",
       "    </tr>\n",
       "  </tbody>\n",
       "</table>\n",
       "<p>5 rows × 849 columns</p>\n",
       "</div>"
      ],
      "text/plain": [
       "             Time   Gateway  Station_Number  Loop      Name  Phase_Voltage_V1  \\\n",
       "0  2022/4/1 00:00  Gateway1             103     0  (CPM-80)             114.0   \n",
       "1  2022/4/1 00:01  Gateway1             103     0  (CPM-80)             114.1   \n",
       "2  2022/4/1 00:02  Gateway1             103     0  (CPM-80)             114.2   \n",
       "3  2022/4/1 00:03  Gateway1             103     0  (CPM-80)             114.2   \n",
       "4  2022/4/1 00:04  Gateway1             103     0  (CPM-80)             114.1   \n",
       "\n",
       "   Phase_Voltage_V2  Phase_Voltage_V3  Phase_Voltage_Average  \\\n",
       "0             113.9             114.0                  114.0   \n",
       "1             114.0             114.1                  114.1   \n",
       "2             114.1             114.2                  114.2   \n",
       "3             114.1             114.2                  114.1   \n",
       "4             114.0             114.1                  114.1   \n",
       "\n",
       "   Line_Voltage_V12  ...  Unnamed: 839  Unnamed: 840  Unnamed: 841  \\\n",
       "0             197.5  ...           NaN           NaN           NaN   \n",
       "1             197.6  ...           NaN           NaN           NaN   \n",
       "2             197.7  ...           NaN           NaN           NaN   \n",
       "3             197.7  ...           NaN           NaN           NaN   \n",
       "4             197.6  ...           NaN           NaN           NaN   \n",
       "\n",
       "   Unnamed: 842  Unnamed: 843  Unnamed: 844  Unnamed: 845  Unnamed: 846  \\\n",
       "0           NaN           NaN           NaN           NaN           NaN   \n",
       "1           NaN           NaN           NaN           NaN           NaN   \n",
       "2           NaN           NaN           NaN           NaN           NaN   \n",
       "3           NaN           NaN           NaN           NaN           NaN   \n",
       "4           NaN           NaN           NaN           NaN           NaN   \n",
       "\n",
       "   Unnamed: 847  Unnamed: 848  \n",
       "0           NaN           NaN  \n",
       "1           NaN           NaN  \n",
       "2           NaN           NaN  \n",
       "3           NaN           NaN  \n",
       "4           NaN           NaN  \n",
       "\n",
       "[5 rows x 849 columns]"
      ]
     },
     "execution_count": 2,
     "metadata": {},
     "output_type": "execute_result"
    }
   ],
   "source": [
    "df = pd.read_csv(\"/kaggle/input/electric-monitor-record/CPM-80_Demo_2022_Q2-Q4.csv\")\n",
    "df.head()"
   ]
  },
  {
   "cell_type": "code",
   "execution_count": 3,
   "id": "a2e0bb80",
   "metadata": {
    "execution": {
     "iopub.execute_input": "2024-12-25T06:33:19.176809Z",
     "iopub.status.busy": "2024-12-25T06:33:19.176488Z",
     "iopub.status.idle": "2024-12-25T06:33:19.298636Z",
     "shell.execute_reply": "2024-12-25T06:33:19.297569Z"
    },
    "papermill": {
     "duration": 0.129542,
     "end_time": "2024-12-25T06:33:19.300457",
     "exception": false,
     "start_time": "2024-12-25T06:33:19.170915",
     "status": "completed"
    },
    "tags": []
   },
   "outputs": [
    {
     "data": {
      "text/plain": [
       "<bound method DataFrame.info of                     Time   Gateway  Station_Number  Loop      Name  \\\n",
       "0         2022/4/1 00:00  Gateway1             103     0  (CPM-80)   \n",
       "1         2022/4/1 00:01  Gateway1             103     0  (CPM-80)   \n",
       "2         2022/4/1 00:02  Gateway1             103     0  (CPM-80)   \n",
       "3         2022/4/1 00:03  Gateway1             103     0  (CPM-80)   \n",
       "4         2022/4/1 00:04  Gateway1             103     0  (CPM-80)   \n",
       "...                  ...       ...             ...   ...       ...   \n",
       "370425  2022/12/31 23:54  Gateway1             103     0  (CPM-80)   \n",
       "370426  2022/12/31 23:55  Gateway1             103     0  (CPM-80)   \n",
       "370427  2022/12/31 23:56  Gateway1             103     0  (CPM-80)   \n",
       "370428  2022/12/31 23:58  Gateway1             103     0  (CPM-80)   \n",
       "370429  2022/12/31 23:59  Gateway1             103     0  (CPM-80)   \n",
       "\n",
       "        Phase_Voltage_V1  Phase_Voltage_V2  Phase_Voltage_V3  \\\n",
       "0                  114.0             113.9             114.0   \n",
       "1                  114.1             114.0             114.1   \n",
       "2                  114.2             114.1             114.2   \n",
       "3                  114.2             114.1             114.2   \n",
       "4                  114.1             114.0             114.1   \n",
       "...                  ...               ...               ...   \n",
       "370425           11379.3           11349.7           11372.4   \n",
       "370426           11383.1           11347.2           11371.5   \n",
       "370427           11377.2           11350.3           11381.2   \n",
       "370428           11391.3           11350.6           11384.7   \n",
       "370429           11389.5           11354.5           11382.5   \n",
       "\n",
       "        Phase_Voltage_Average  Line_Voltage_V12  ...  Unnamed: 839  \\\n",
       "0                       114.0             197.5  ...           NaN   \n",
       "1                       114.1             197.6  ...           NaN   \n",
       "2                       114.2             197.7  ...           NaN   \n",
       "3                       114.1             197.7  ...           NaN   \n",
       "4                       114.1             197.6  ...           NaN   \n",
       "...                       ...               ...  ...           ...   \n",
       "370425                11367.1           19688.1  ...           NaN   \n",
       "370426                11367.3           19690.2  ...           NaN   \n",
       "370427                11369.5           19680.4  ...           NaN   \n",
       "370428                11375.5           19695.2  ...           NaN   \n",
       "370429                11375.5           19699.2  ...           NaN   \n",
       "\n",
       "        Unnamed: 840  Unnamed: 841  Unnamed: 842  Unnamed: 843  Unnamed: 844  \\\n",
       "0                NaN           NaN           NaN           NaN           NaN   \n",
       "1                NaN           NaN           NaN           NaN           NaN   \n",
       "2                NaN           NaN           NaN           NaN           NaN   \n",
       "3                NaN           NaN           NaN           NaN           NaN   \n",
       "4                NaN           NaN           NaN           NaN           NaN   \n",
       "...              ...           ...           ...           ...           ...   \n",
       "370425           NaN           NaN           NaN           NaN           NaN   \n",
       "370426           NaN           NaN           NaN           NaN           NaN   \n",
       "370427           NaN           NaN           NaN           NaN           NaN   \n",
       "370428           NaN           NaN           NaN           NaN           NaN   \n",
       "370429           NaN           NaN           NaN           NaN           NaN   \n",
       "\n",
       "        Unnamed: 845  Unnamed: 846  Unnamed: 847  Unnamed: 848  \n",
       "0                NaN           NaN           NaN           NaN  \n",
       "1                NaN           NaN           NaN           NaN  \n",
       "2                NaN           NaN           NaN           NaN  \n",
       "3                NaN           NaN           NaN           NaN  \n",
       "4                NaN           NaN           NaN           NaN  \n",
       "...              ...           ...           ...           ...  \n",
       "370425           NaN           NaN           NaN           NaN  \n",
       "370426           NaN           NaN           NaN           NaN  \n",
       "370427           NaN           NaN           NaN           NaN  \n",
       "370428           NaN           NaN           NaN           NaN  \n",
       "370429           NaN           NaN           NaN           NaN  \n",
       "\n",
       "[370430 rows x 849 columns]>"
      ]
     },
     "execution_count": 3,
     "metadata": {},
     "output_type": "execute_result"
    }
   ],
   "source": [
    "df.info"
   ]
  },
  {
   "cell_type": "code",
   "execution_count": 4,
   "id": "727bcc24",
   "metadata": {
    "execution": {
     "iopub.execute_input": "2024-12-25T06:33:19.312297Z",
     "iopub.status.busy": "2024-12-25T06:33:19.311917Z",
     "iopub.status.idle": "2024-12-25T06:33:19.671050Z",
     "shell.execute_reply": "2024-12-25T06:33:19.670025Z"
    },
    "papermill": {
     "duration": 0.367116,
     "end_time": "2024-12-25T06:33:19.672838",
     "exception": false,
     "start_time": "2024-12-25T06:33:19.305722",
     "status": "completed"
    },
    "tags": []
   },
   "outputs": [],
   "source": [
    "# Remove Unnamed column\n",
    "df = df.loc[:, ~df.columns.str.contains('^Unnamed')]"
   ]
  },
  {
   "cell_type": "markdown",
   "id": "c0e1ebe8",
   "metadata": {
    "papermill": {
     "duration": 0.004847,
     "end_time": "2024-12-25T06:33:19.682706",
     "exception": false,
     "start_time": "2024-12-25T06:33:19.677859",
     "status": "completed"
    },
    "tags": []
   },
   "source": [
    "List all columns to select data"
   ]
  },
  {
   "cell_type": "code",
   "execution_count": 5,
   "id": "28283f47",
   "metadata": {
    "execution": {
     "iopub.execute_input": "2024-12-25T06:33:19.693495Z",
     "iopub.status.busy": "2024-12-25T06:33:19.693107Z",
     "iopub.status.idle": "2024-12-25T06:33:19.755381Z",
     "shell.execute_reply": "2024-12-25T06:33:19.754201Z"
    },
    "papermill": {
     "duration": 0.070988,
     "end_time": "2024-12-25T06:33:19.758467",
     "exception": false,
     "start_time": "2024-12-25T06:33:19.687479",
     "status": "completed"
    },
    "tags": []
   },
   "outputs": [
    {
     "name": "stdout",
     "output_type": "stream",
     "text": [
      "Time\n",
      "Gateway\n",
      "Station_Number\n",
      "Loop\n",
      "Name\n",
      "Phase_Voltage_V1\n",
      "Phase_Voltage_V2\n",
      "Phase_Voltage_V3\n",
      "Phase_Voltage_Average\n",
      "Line_Voltage_V12\n",
      "Line_Voltage_V23\n",
      "Line_Voltage_V31\n",
      "Line_Voltage_Average\n",
      "Current_I1\n",
      "Current_I2\n",
      "Current_I3\n",
      "Current_Average\n",
      "Current_Neutral\n",
      "Frequency\n",
      "Power_Factor_Average\n",
      "Active_Power_Total\n",
      "Reactive_Power_Total\n",
      "Voltage_Unbalance\n",
      "Current_Unbalance\n",
      "Active_Power_Demand_Total\n",
      "Reactive_Power_Demand_Total\n",
      "I1_Demand\n",
      "I2_Demand\n",
      "I3_Demand\n",
      "Current_Demand_Average\n",
      "V1 THD\n",
      "V2 THD\n",
      "V3 THD\n",
      "Vavg THD\n",
      "I1 THD\n",
      "I2 THD\n",
      "I3 THD\n",
      "Iavg THD\n",
      "Active_Energy_Total\n",
      "Reactive_Energy_Total\n",
      "phaseU2afterU1\n",
      "phaseU3afterU1\n",
      "phaseI1afterU1\n",
      "phaseI2afterU1\n",
      "phaseI3afterU1\n",
      "phaseU23afterU12\n",
      "phaseU31afterU12\n",
      "phaseI1afterU12\n",
      "phaseI2afterU12\n",
      "phaseI3afterU12\n",
      "Delta_Energy\n",
      "u1THDRateStart#2\n",
      "u1THDRateStart#3\n",
      "u1THDRateStart#4\n",
      "u1THDRateStart#5\n",
      "u1THDRateStart#6\n",
      "u1THDRateStart#7\n",
      "u1THDRateStart#8\n",
      "u1THDRateStart#9\n",
      "u1THDRateStart#10\n",
      "u1THDRateStart#11\n",
      "u1THDRateStart#12\n",
      "u1THDRateStart#13\n",
      "u1THDRateStart#14\n",
      "u1THDRateStart#15\n",
      "u1THDRateStart#16\n",
      "u1THDRateStart#17\n",
      "u1THDRateStart#18\n",
      "u1THDRateStart#19\n",
      "u1THDRateStart#20\n",
      "u1THDRateStart#21\n",
      "u1THDRateStart#22\n",
      "u1THDRateStart#23\n",
      "u1THDRateStart#24\n",
      "u1THDRateStart#25\n",
      "u1THDRateStart#26\n",
      "u1THDRateStart#27\n",
      "u1THDRateStart#28\n",
      "u1THDRateStart#29\n",
      "u1THDRateStart#30\n",
      "u1THDRateStart#31\n",
      "u1THDRateStart#32\n",
      "u1THDRateStart#33\n",
      "u1THDRateStart#34\n",
      "u1THDRateStart#35\n",
      "u1THDRateStart#36\n",
      "u1THDRateStart#37\n",
      "u1THDRateStart#38\n",
      "u1THDRateStart#39\n",
      "u1THDRateStart#40\n",
      "u1THDRateStart#41\n",
      "u1THDRateStart#42\n",
      "u1THDRateStart#43\n",
      "u1THDRateStart#44\n",
      "u1THDRateStart#45\n",
      "u1THDRateStart#46\n",
      "u1THDRateStart#47\n",
      "u1THDRateStart#48\n",
      "u1THDRateStart#49\n",
      "u1THDRateStart#50\n",
      "u1THDRateStart#51\n",
      "u1THDRateStart#52\n",
      "u1THDRateStart#53\n",
      "u1THDRateStart#54\n",
      "u1THDRateStart#55\n",
      "u1THDRateStart#56\n",
      "u1THDRateStart#57\n",
      "u1THDRateStart#58\n",
      "u1THDRateStart#59\n",
      "u1THDRateStart#60\n",
      "u1THDRateStart#61\n",
      "u1THDRateStart#62\n",
      "u1THDRateStart#63\n",
      "u2THDRateStart#2\n",
      "u2THDRateStart#3\n",
      "u2THDRateStart#4\n",
      "u2THDRateStart#5\n",
      "u2THDRateStart#6\n",
      "u2THDRateStart#7\n",
      "u2THDRateStart#8\n",
      "u2THDRateStart#9\n",
      "u2THDRateStart#10\n",
      "u2THDRateStart#11\n",
      "u2THDRateStart#12\n",
      "u2THDRateStart#13\n",
      "u2THDRateStart#14\n",
      "u2THDRateStart#15\n",
      "u2THDRateStart#16\n",
      "u2THDRateStart#17\n",
      "u2THDRateStart#18\n",
      "u2THDRateStart#19\n",
      "u2THDRateStart#20\n",
      "u2THDRateStart#21\n",
      "u2THDRateStart#22\n",
      "u2THDRateStart#23\n",
      "u2THDRateStart#24\n",
      "u2THDRateStart#25\n",
      "u2THDRateStart#26\n",
      "u2THDRateStart#27\n",
      "u2THDRateStart#28\n",
      "u2THDRateStart#29\n",
      "u2THDRateStart#30\n",
      "u2THDRateStart#31\n",
      "u2THDRateStart#32\n",
      "u2THDRateStart#33\n",
      "u2THDRateStart#34\n",
      "u2THDRateStart#35\n",
      "u2THDRateStart#36\n",
      "u2THDRateStart#37\n",
      "u2THDRateStart#38\n",
      "u2THDRateStart#39\n",
      "u2THDRateStart#40\n",
      "u2THDRateStart#41\n",
      "u2THDRateStart#42\n",
      "u2THDRateStart#43\n",
      "u2THDRateStart#44\n",
      "u2THDRateStart#45\n",
      "u2THDRateStart#46\n",
      "u2THDRateStart#47\n",
      "u2THDRateStart#48\n",
      "u2THDRateStart#49\n",
      "u2THDRateStart#50\n",
      "u2THDRateStart#51\n",
      "u2THDRateStart#52\n",
      "u2THDRateStart#53\n",
      "u2THDRateStart#54\n",
      "u2THDRateStart#55\n",
      "u2THDRateStart#56\n",
      "u2THDRateStart#57\n",
      "u2THDRateStart#58\n",
      "u2THDRateStart#59\n",
      "u2THDRateStart#60\n",
      "u2THDRateStart#61\n",
      "u2THDRateStart#62\n",
      "u2THDRateStart#63\n",
      "u3THDRateStart#2\n",
      "u3THDRateStart#3\n",
      "u3THDRateStart#4\n",
      "u3THDRateStart#5\n",
      "u3THDRateStart#6\n",
      "u3THDRateStart#7\n",
      "u3THDRateStart#8\n",
      "u3THDRateStart#9\n",
      "u3THDRateStart#10\n",
      "u3THDRateStart#11\n",
      "u3THDRateStart#12\n",
      "u3THDRateStart#13\n",
      "u3THDRateStart#14\n",
      "u3THDRateStart#15\n",
      "u3THDRateStart#16\n",
      "u3THDRateStart#17\n",
      "u3THDRateStart#18\n",
      "u3THDRateStart#19\n",
      "u3THDRateStart#20\n",
      "u3THDRateStart#21\n",
      "u3THDRateStart#22\n",
      "u3THDRateStart#23\n",
      "u3THDRateStart#24\n",
      "u3THDRateStart#25\n",
      "u3THDRateStart#26\n",
      "u3THDRateStart#27\n",
      "u3THDRateStart#28\n",
      "u3THDRateStart#29\n",
      "u3THDRateStart#30\n",
      "u3THDRateStart#31\n",
      "u3THDRateStart#32\n",
      "u3THDRateStart#33\n",
      "u3THDRateStart#34\n",
      "u3THDRateStart#35\n",
      "u3THDRateStart#36\n",
      "u3THDRateStart#37\n",
      "u3THDRateStart#38\n",
      "u3THDRateStart#39\n",
      "u3THDRateStart#40\n",
      "u3THDRateStart#41\n",
      "u3THDRateStart#42\n",
      "u3THDRateStart#43\n",
      "u3THDRateStart#44\n",
      "u3THDRateStart#45\n",
      "u3THDRateStart#46\n",
      "u3THDRateStart#47\n",
      "u3THDRateStart#48\n",
      "u3THDRateStart#49\n",
      "u3THDRateStart#50\n",
      "u3THDRateStart#51\n",
      "u3THDRateStart#52\n",
      "u3THDRateStart#53\n",
      "u3THDRateStart#54\n",
      "u3THDRateStart#55\n",
      "u3THDRateStart#56\n",
      "u3THDRateStart#57\n",
      "u3THDRateStart#58\n",
      "u3THDRateStart#59\n",
      "u3THDRateStart#60\n",
      "u3THDRateStart#61\n",
      "u3THDRateStart#62\n",
      "u3THDRateStart#63\n",
      "i1THDRateStart#2\n",
      "i1THDRateStart#3\n",
      "i1THDRateStart#4\n",
      "i1THDRateStart#5\n",
      "i1THDRateStart#6\n",
      "i1THDRateStart#7\n",
      "i1THDRateStart#8\n",
      "i1THDRateStart#9\n",
      "i1THDRateStart#10\n",
      "i1THDRateStart#11\n",
      "i1THDRateStart#12\n",
      "i1THDRateStart#13\n",
      "i1THDRateStart#14\n",
      "i1THDRateStart#15\n",
      "i1THDRateStart#16\n",
      "i1THDRateStart#17\n",
      "i1THDRateStart#18\n",
      "i1THDRateStart#19\n",
      "i1THDRateStart#20\n",
      "i1THDRateStart#21\n",
      "i1THDRateStart#22\n",
      "i1THDRateStart#23\n",
      "i1THDRateStart#24\n",
      "i1THDRateStart#25\n",
      "i1THDRateStart#26\n",
      "i1THDRateStart#27\n",
      "i1THDRateStart#28\n",
      "i1THDRateStart#29\n",
      "i1THDRateStart#30\n",
      "i1THDRateStart#31\n",
      "i1THDRateStart#32\n",
      "i1THDRateStart#33\n",
      "i1THDRateStart#34\n",
      "i1THDRateStart#35\n",
      "i1THDRateStart#36\n",
      "i1THDRateStart#37\n",
      "i1THDRateStart#38\n",
      "i1THDRateStart#39\n",
      "i1THDRateStart#40\n",
      "i1THDRateStart#41\n",
      "i1THDRateStart#42\n",
      "i1THDRateStart#43\n",
      "i1THDRateStart#44\n",
      "i1THDRateStart#45\n",
      "i1THDRateStart#46\n",
      "i1THDRateStart#47\n",
      "i1THDRateStart#48\n",
      "i1THDRateStart#49\n",
      "i1THDRateStart#50\n",
      "i1THDRateStart#51\n",
      "i1THDRateStart#52\n",
      "i1THDRateStart#53\n",
      "i1THDRateStart#54\n",
      "i1THDRateStart#55\n",
      "i1THDRateStart#56\n",
      "i1THDRateStart#57\n",
      "i1THDRateStart#58\n",
      "i1THDRateStart#59\n",
      "i1THDRateStart#60\n",
      "i1THDRateStart#61\n",
      "i1THDRateStart#62\n",
      "i1THDRateStart#63\n",
      "i2THDRateStart#2\n",
      "i2THDRateStart#3\n",
      "i2THDRateStart#4\n",
      "i2THDRateStart#5\n",
      "i2THDRateStart#6\n",
      "i2THDRateStart#7\n",
      "i2THDRateStart#8\n",
      "i2THDRateStart#9\n",
      "i2THDRateStart#10\n",
      "i2THDRateStart#11\n",
      "i2THDRateStart#12\n",
      "i2THDRateStart#13\n",
      "i2THDRateStart#14\n",
      "i2THDRateStart#15\n",
      "i2THDRateStart#16\n",
      "i2THDRateStart#17\n",
      "i2THDRateStart#18\n",
      "i2THDRateStart#19\n",
      "i2THDRateStart#20\n",
      "i2THDRateStart#21\n",
      "i2THDRateStart#22\n",
      "i2THDRateStart#23\n",
      "i2THDRateStart#24\n",
      "i2THDRateStart#25\n",
      "i2THDRateStart#26\n",
      "i2THDRateStart#27\n",
      "i2THDRateStart#28\n",
      "i2THDRateStart#29\n",
      "i2THDRateStart#30\n",
      "i2THDRateStart#31\n",
      "i2THDRateStart#32\n",
      "i2THDRateStart#33\n",
      "i2THDRateStart#34\n",
      "i2THDRateStart#35\n",
      "i2THDRateStart#36\n",
      "i2THDRateStart#37\n",
      "i2THDRateStart#38\n",
      "i2THDRateStart#39\n",
      "i2THDRateStart#40\n",
      "i2THDRateStart#41\n",
      "i2THDRateStart#42\n",
      "i2THDRateStart#43\n",
      "i2THDRateStart#44\n",
      "i2THDRateStart#45\n",
      "i2THDRateStart#46\n",
      "i2THDRateStart#47\n",
      "i2THDRateStart#48\n",
      "i2THDRateStart#49\n",
      "i2THDRateStart#50\n",
      "i2THDRateStart#51\n",
      "i2THDRateStart#52\n",
      "i2THDRateStart#53\n",
      "i2THDRateStart#54\n",
      "i2THDRateStart#55\n",
      "i2THDRateStart#56\n",
      "i2THDRateStart#57\n",
      "i2THDRateStart#58\n",
      "i2THDRateStart#59\n",
      "i2THDRateStart#60\n",
      "i2THDRateStart#61\n",
      "i2THDRateStart#62\n",
      "i2THDRateStart#63\n",
      "i3THDRateStart#2\n",
      "i3THDRateStart#3\n",
      "i3THDRateStart#4\n",
      "i3THDRateStart#5\n",
      "i3THDRateStart#6\n",
      "i3THDRateStart#7\n",
      "i3THDRateStart#8\n",
      "i3THDRateStart#9\n",
      "i3THDRateStart#10\n",
      "i3THDRateStart#11\n",
      "i3THDRateStart#12\n",
      "i3THDRateStart#13\n",
      "i3THDRateStart#14\n",
      "i3THDRateStart#15\n",
      "i3THDRateStart#16\n",
      "i3THDRateStart#17\n",
      "i3THDRateStart#18\n",
      "i3THDRateStart#19\n",
      "i3THDRateStart#20\n",
      "i3THDRateStart#21\n",
      "i3THDRateStart#22\n",
      "i3THDRateStart#23\n",
      "i3THDRateStart#24\n",
      "i3THDRateStart#25\n",
      "i3THDRateStart#26\n",
      "i3THDRateStart#27\n",
      "i3THDRateStart#28\n",
      "i3THDRateStart#29\n",
      "i3THDRateStart#30\n",
      "i3THDRateStart#31\n",
      "i3THDRateStart#32\n",
      "i3THDRateStart#33\n",
      "i3THDRateStart#34\n",
      "i3THDRateStart#35\n",
      "i3THDRateStart#36\n",
      "i3THDRateStart#37\n",
      "i3THDRateStart#38\n",
      "i3THDRateStart#39\n",
      "i3THDRateStart#40\n",
      "i3THDRateStart#41\n",
      "i3THDRateStart#42\n",
      "i3THDRateStart#43\n",
      "i3THDRateStart#44\n",
      "i3THDRateStart#45\n",
      "i3THDRateStart#46\n",
      "i3THDRateStart#47\n",
      "i3THDRateStart#48\n",
      "i3THDRateStart#49\n",
      "i3THDRateStart#50\n",
      "i3THDRateStart#51\n",
      "i3THDRateStart#52\n",
      "i3THDRateStart#53\n",
      "i3THDRateStart#54\n",
      "i3THDRateStart#55\n",
      "i3THDRateStart#56\n",
      "i3THDRateStart#57\n",
      "i3THDRateStart#58\n",
      "i3THDRateStart#59\n",
      "i3THDRateStart#60\n",
      "i3THDRateStart#61\n",
      "i3THDRateStart#62\n",
      "i3THDRateStart#63\n"
     ]
    }
   ],
   "source": [
    "for col in df.columns:\n",
    "    print(col)"
   ]
  },
  {
   "cell_type": "code",
   "execution_count": 6,
   "id": "d57b697f",
   "metadata": {
    "execution": {
     "iopub.execute_input": "2024-12-25T06:33:19.770842Z",
     "iopub.status.busy": "2024-12-25T06:33:19.770465Z",
     "iopub.status.idle": "2024-12-25T06:33:19.794840Z",
     "shell.execute_reply": "2024-12-25T06:33:19.793783Z"
    },
    "papermill": {
     "duration": 0.032321,
     "end_time": "2024-12-25T06:33:19.796588",
     "exception": false,
     "start_time": "2024-12-25T06:33:19.764267",
     "status": "completed"
    },
    "tags": []
   },
   "outputs": [
    {
     "data": {
      "text/plain": [
       "<bound method DataFrame.info of                     Time  Phase_Voltage_V1  Phase_Voltage_V2  \\\n",
       "0         2022/4/1 00:00             114.0             113.9   \n",
       "1         2022/4/1 00:01             114.1             114.0   \n",
       "2         2022/4/1 00:02             114.2             114.1   \n",
       "3         2022/4/1 00:03             114.2             114.1   \n",
       "4         2022/4/1 00:04             114.1             114.0   \n",
       "...                  ...               ...               ...   \n",
       "370425  2022/12/31 23:54           11379.3           11349.7   \n",
       "370426  2022/12/31 23:55           11383.1           11347.2   \n",
       "370427  2022/12/31 23:56           11377.2           11350.3   \n",
       "370428  2022/12/31 23:58           11391.3           11350.6   \n",
       "370429  2022/12/31 23:59           11389.5           11354.5   \n",
       "\n",
       "        Phase_Voltage_V3  Phase_Voltage_Average  Line_Voltage_V12  \\\n",
       "0                  114.0                  114.0             197.5   \n",
       "1                  114.1                  114.1             197.6   \n",
       "2                  114.2                  114.2             197.7   \n",
       "3                  114.2                  114.1             197.7   \n",
       "4                  114.1                  114.1             197.6   \n",
       "...                  ...                    ...               ...   \n",
       "370425           11372.4                11367.1           19688.1   \n",
       "370426           11371.5                11367.3           19690.2   \n",
       "370427           11381.2                11369.5           19680.4   \n",
       "370428           11384.7                11375.5           19695.2   \n",
       "370429           11382.5                11375.5           19699.2   \n",
       "\n",
       "        Line_Voltage_V23  Line_Voltage_V31  Line_Voltage_Average  \n",
       "0                  197.3             197.5                 197.4  \n",
       "1                  197.4             197.7                 197.6  \n",
       "2                  197.6             197.8                 197.7  \n",
       "3                  197.6             197.8                 197.7  \n",
       "4                  197.5             197.7                 197.6  \n",
       "...                  ...               ...                   ...  \n",
       "370425           19660.9           19716.1               19688.3  \n",
       "370426           19655.8           19719.9               19688.6  \n",
       "370427           19674.1           19723.3               19692.6  \n",
       "370428           19670.6           19743.1               19703.0  \n",
       "370429           19672.6           19737.0               19702.9  \n",
       "\n",
       "[370430 rows x 9 columns]>"
      ]
     },
     "execution_count": 6,
     "metadata": {},
     "output_type": "execute_result"
    }
   ],
   "source": [
    "Basic_Voltage_df = df[['Time',\n",
    "    'Phase_Voltage_V1',\n",
    "    'Phase_Voltage_V2',\n",
    "    'Phase_Voltage_V3',\n",
    "    'Phase_Voltage_Average',\n",
    "    'Line_Voltage_V12',\n",
    "    'Line_Voltage_V23',\n",
    "    'Line_Voltage_V31',\n",
    "    'Line_Voltage_Average' ]]\n",
    "\n",
    "Basic_Voltage_df.info"
   ]
  },
  {
   "cell_type": "code",
   "execution_count": 7,
   "id": "e25ba672",
   "metadata": {
    "execution": {
     "iopub.execute_input": "2024-12-25T06:33:19.808966Z",
     "iopub.status.busy": "2024-12-25T06:33:19.808632Z",
     "iopub.status.idle": "2024-12-25T06:33:19.829400Z",
     "shell.execute_reply": "2024-12-25T06:33:19.828191Z"
    },
    "papermill": {
     "duration": 0.028897,
     "end_time": "2024-12-25T06:33:19.831072",
     "exception": false,
     "start_time": "2024-12-25T06:33:19.802175",
     "status": "completed"
    },
    "tags": []
   },
   "outputs": [
    {
     "name": "stdout",
     "output_type": "stream",
     "text": [
      "Index(['Time', 'Phase_Voltage_V1', 'Phase_Voltage_V2', 'Phase_Voltage_V3',\n",
      "       'Phase_Voltage_Average', 'Line_Voltage_V12', 'Line_Voltage_V23',\n",
      "       'Line_Voltage_V31', 'Line_Voltage_Average', 'V1 THD', 'V2 THD',\n",
      "       'V3 THD', 'Vavg THD'],\n",
      "      dtype='object')\n"
     ]
    }
   ],
   "source": [
    "#Add columns of THD\n",
    "THD_V_lst =[\"V1 THD\", 'V2 THD', 'V3 THD', 'Vavg THD']\n",
    "Basic_Voltage_df  = pd.concat([Basic_Voltage_df, df[THD_V_lst]], axis=1) #use axis=1 to append THD columns\n",
    "print(Basic_Voltage_df.columns)"
   ]
  },
  {
   "cell_type": "code",
   "execution_count": 8,
   "id": "c2283ae6",
   "metadata": {
    "execution": {
     "iopub.execute_input": "2024-12-25T06:33:19.843071Z",
     "iopub.status.busy": "2024-12-25T06:33:19.842747Z",
     "iopub.status.idle": "2024-12-25T06:33:19.861262Z",
     "shell.execute_reply": "2024-12-25T06:33:19.860207Z"
    },
    "papermill": {
     "duration": 0.026463,
     "end_time": "2024-12-25T06:33:19.863013",
     "exception": false,
     "start_time": "2024-12-25T06:33:19.836550",
     "status": "completed"
    },
    "tags": []
   },
   "outputs": [
    {
     "name": "stdout",
     "output_type": "stream",
     "text": [
      "(370430, 13)\n"
     ]
    },
    {
     "data": {
      "text/html": [
       "<div>\n",
       "<style scoped>\n",
       "    .dataframe tbody tr th:only-of-type {\n",
       "        vertical-align: middle;\n",
       "    }\n",
       "\n",
       "    .dataframe tbody tr th {\n",
       "        vertical-align: top;\n",
       "    }\n",
       "\n",
       "    .dataframe thead th {\n",
       "        text-align: right;\n",
       "    }\n",
       "</style>\n",
       "<table border=\"1\" class=\"dataframe\">\n",
       "  <thead>\n",
       "    <tr style=\"text-align: right;\">\n",
       "      <th></th>\n",
       "      <th>Time</th>\n",
       "      <th>Phase_Voltage_V1</th>\n",
       "      <th>Phase_Voltage_V2</th>\n",
       "      <th>Phase_Voltage_V3</th>\n",
       "      <th>Phase_Voltage_Average</th>\n",
       "      <th>Line_Voltage_V12</th>\n",
       "      <th>Line_Voltage_V23</th>\n",
       "      <th>Line_Voltage_V31</th>\n",
       "      <th>Line_Voltage_Average</th>\n",
       "      <th>V1 THD</th>\n",
       "      <th>V2 THD</th>\n",
       "      <th>V3 THD</th>\n",
       "      <th>Vavg THD</th>\n",
       "    </tr>\n",
       "  </thead>\n",
       "  <tbody>\n",
       "    <tr>\n",
       "      <th>370425</th>\n",
       "      <td>2022/12/31 23:54</td>\n",
       "      <td>11379.3</td>\n",
       "      <td>11349.7</td>\n",
       "      <td>11372.4</td>\n",
       "      <td>11367.1</td>\n",
       "      <td>19688.1</td>\n",
       "      <td>19660.9</td>\n",
       "      <td>19716.1</td>\n",
       "      <td>19688.3</td>\n",
       "      <td>0.9</td>\n",
       "      <td>1.0</td>\n",
       "      <td>0.9</td>\n",
       "      <td>0.9</td>\n",
       "    </tr>\n",
       "    <tr>\n",
       "      <th>370426</th>\n",
       "      <td>2022/12/31 23:55</td>\n",
       "      <td>11383.1</td>\n",
       "      <td>11347.2</td>\n",
       "      <td>11371.5</td>\n",
       "      <td>11367.3</td>\n",
       "      <td>19690.2</td>\n",
       "      <td>19655.8</td>\n",
       "      <td>19719.9</td>\n",
       "      <td>19688.6</td>\n",
       "      <td>0.9</td>\n",
       "      <td>1.0</td>\n",
       "      <td>0.9</td>\n",
       "      <td>0.9</td>\n",
       "    </tr>\n",
       "    <tr>\n",
       "      <th>370427</th>\n",
       "      <td>2022/12/31 23:56</td>\n",
       "      <td>11377.2</td>\n",
       "      <td>11350.3</td>\n",
       "      <td>11381.2</td>\n",
       "      <td>11369.5</td>\n",
       "      <td>19680.4</td>\n",
       "      <td>19674.1</td>\n",
       "      <td>19723.3</td>\n",
       "      <td>19692.6</td>\n",
       "      <td>0.9</td>\n",
       "      <td>1.0</td>\n",
       "      <td>0.9</td>\n",
       "      <td>0.9</td>\n",
       "    </tr>\n",
       "    <tr>\n",
       "      <th>370428</th>\n",
       "      <td>2022/12/31 23:58</td>\n",
       "      <td>11391.3</td>\n",
       "      <td>11350.6</td>\n",
       "      <td>11384.7</td>\n",
       "      <td>11375.5</td>\n",
       "      <td>19695.2</td>\n",
       "      <td>19670.6</td>\n",
       "      <td>19743.1</td>\n",
       "      <td>19703.0</td>\n",
       "      <td>0.9</td>\n",
       "      <td>1.0</td>\n",
       "      <td>0.9</td>\n",
       "      <td>0.9</td>\n",
       "    </tr>\n",
       "    <tr>\n",
       "      <th>370429</th>\n",
       "      <td>2022/12/31 23:59</td>\n",
       "      <td>11389.5</td>\n",
       "      <td>11354.5</td>\n",
       "      <td>11382.5</td>\n",
       "      <td>11375.5</td>\n",
       "      <td>19699.2</td>\n",
       "      <td>19672.6</td>\n",
       "      <td>19737.0</td>\n",
       "      <td>19702.9</td>\n",
       "      <td>0.9</td>\n",
       "      <td>1.0</td>\n",
       "      <td>0.9</td>\n",
       "      <td>0.9</td>\n",
       "    </tr>\n",
       "  </tbody>\n",
       "</table>\n",
       "</div>"
      ],
      "text/plain": [
       "                    Time  Phase_Voltage_V1  Phase_Voltage_V2  \\\n",
       "370425  2022/12/31 23:54           11379.3           11349.7   \n",
       "370426  2022/12/31 23:55           11383.1           11347.2   \n",
       "370427  2022/12/31 23:56           11377.2           11350.3   \n",
       "370428  2022/12/31 23:58           11391.3           11350.6   \n",
       "370429  2022/12/31 23:59           11389.5           11354.5   \n",
       "\n",
       "        Phase_Voltage_V3  Phase_Voltage_Average  Line_Voltage_V12  \\\n",
       "370425           11372.4                11367.1           19688.1   \n",
       "370426           11371.5                11367.3           19690.2   \n",
       "370427           11381.2                11369.5           19680.4   \n",
       "370428           11384.7                11375.5           19695.2   \n",
       "370429           11382.5                11375.5           19699.2   \n",
       "\n",
       "        Line_Voltage_V23  Line_Voltage_V31  Line_Voltage_Average  V1 THD  \\\n",
       "370425           19660.9           19716.1               19688.3     0.9   \n",
       "370426           19655.8           19719.9               19688.6     0.9   \n",
       "370427           19674.1           19723.3               19692.6     0.9   \n",
       "370428           19670.6           19743.1               19703.0     0.9   \n",
       "370429           19672.6           19737.0               19702.9     0.9   \n",
       "\n",
       "        V2 THD  V3 THD  Vavg THD  \n",
       "370425     1.0     0.9       0.9  \n",
       "370426     1.0     0.9       0.9  \n",
       "370427     1.0     0.9       0.9  \n",
       "370428     1.0     0.9       0.9  \n",
       "370429     1.0     0.9       0.9  "
      ]
     },
     "execution_count": 8,
     "metadata": {},
     "output_type": "execute_result"
    }
   ],
   "source": [
    "print(Basic_Voltage_df.shape)\n",
    "Basic_Voltage_df.tail()"
   ]
  },
  {
   "cell_type": "markdown",
   "id": "e851640f",
   "metadata": {
    "papermill": {
     "duration": 0.005419,
     "end_time": "2024-12-25T06:33:19.874407",
     "exception": false,
     "start_time": "2024-12-25T06:33:19.868988",
     "status": "completed"
    },
    "tags": []
   },
   "source": [
    "The Basic Voltage record data were filted completely"
   ]
  },
  {
   "cell_type": "code",
   "execution_count": 9,
   "id": "40769fd4",
   "metadata": {
    "execution": {
     "iopub.execute_input": "2024-12-25T06:33:19.887055Z",
     "iopub.status.busy": "2024-12-25T06:33:19.886723Z",
     "iopub.status.idle": "2024-12-25T06:33:19.894351Z",
     "shell.execute_reply": "2024-12-25T06:33:19.893250Z"
    },
    "papermill": {
     "duration": 0.016271,
     "end_time": "2024-12-25T06:33:19.896318",
     "exception": false,
     "start_time": "2024-12-25T06:33:19.880047",
     "status": "completed"
    },
    "tags": []
   },
   "outputs": [
    {
     "name": "stdout",
     "output_type": "stream",
     "text": [
      "2022/4/1 03:20\n",
      "<class 'str'>\n",
      "2022-04-01 03:20:00\n",
      "<class 'pandas._libs.tslibs.timestamps.Timestamp'>\n",
      "Friday\n"
     ]
    }
   ],
   "source": [
    "Tag = Basic_Voltage_df['Time'][200]\n",
    "print(Tag)\n",
    "print(type(Tag))\n",
    "# Convert to Timestamp class\n",
    "T = pd.to_datetime(Tag, format = '%Y/%m/%d %H:%M')\n",
    "print(T)\n",
    "print(type(T))\n",
    "print(T.strftime('%A'))"
   ]
  },
  {
   "cell_type": "code",
   "execution_count": 10,
   "id": "188ec37d",
   "metadata": {
    "execution": {
     "iopub.execute_input": "2024-12-25T06:33:19.909335Z",
     "iopub.status.busy": "2024-12-25T06:33:19.908974Z",
     "iopub.status.idle": "2024-12-25T06:33:20.018682Z",
     "shell.execute_reply": "2024-12-25T06:33:20.017334Z"
    },
    "papermill": {
     "duration": 0.118146,
     "end_time": "2024-12-25T06:33:20.020443",
     "exception": false,
     "start_time": "2024-12-25T06:33:19.902297",
     "status": "completed"
    },
    "tags": []
   },
   "outputs": [
    {
     "name": "stdout",
     "output_type": "stream",
     "text": [
      "<class 'pandas._libs.tslibs.timestamps.Timestamp'>\n"
     ]
    }
   ],
   "source": [
    "Basic_Voltage_df['Time'] = pd.to_datetime(Basic_Voltage_df['Time'], format = '%Y/%m/%d %H:%M')\n",
    "print(type(Basic_Voltage_df['Time'][200]))"
   ]
  },
  {
   "cell_type": "code",
   "execution_count": 11,
   "id": "010a9718",
   "metadata": {
    "execution": {
     "iopub.execute_input": "2024-12-25T06:33:20.033859Z",
     "iopub.status.busy": "2024-12-25T06:33:20.033521Z",
     "iopub.status.idle": "2024-12-25T06:33:20.071410Z",
     "shell.execute_reply": "2024-12-25T06:33:20.069947Z"
    },
    "papermill": {
     "duration": 0.046624,
     "end_time": "2024-12-25T06:33:20.073167",
     "exception": false,
     "start_time": "2024-12-25T06:33:20.026543",
     "status": "completed"
    },
    "tags": []
   },
   "outputs": [
    {
     "name": "stdout",
     "output_type": "stream",
     "text": [
      "                     Time  Phase_Voltage_V1  Phase_Voltage_V2  \\\n",
      "29698 2022-05-02 00:00:00             112.6             112.4   \n",
      "29699 2022-05-02 00:01:00             112.5             112.3   \n",
      "29700 2022-05-02 00:02:00             112.6             112.4   \n",
      "29701 2022-05-02 00:03:00             112.7             112.5   \n",
      "29702 2022-05-02 00:04:00             112.6             112.4   \n",
      "...                   ...               ...               ...   \n",
      "31132 2022-05-02 23:55:00             112.1             111.8   \n",
      "31133 2022-05-02 23:56:00             112.1             111.9   \n",
      "31134 2022-05-02 23:57:00             112.2             112.0   \n",
      "31135 2022-05-02 23:58:00             112.4             112.1   \n",
      "31136 2022-05-02 23:59:00             112.4             112.1   \n",
      "\n",
      "       Phase_Voltage_V3  Phase_Voltage_Average  Line_Voltage_V12  \\\n",
      "29698             112.5                  112.5             194.9   \n",
      "29699             112.5                  112.5             194.8   \n",
      "29700             112.6                  112.5             194.9   \n",
      "29701             112.6                  112.6             195.0   \n",
      "29702             112.6                  112.6             195.0   \n",
      "...                 ...                    ...               ...   \n",
      "31132             112.1                  112.0             193.9   \n",
      "31133             112.1                  112.0             194.0   \n",
      "31134             112.2                  112.1             194.2   \n",
      "31135             112.3                  112.3             194.5   \n",
      "31136             112.4                  112.3             194.5   \n",
      "\n",
      "       Line_Voltage_V23  Line_Voltage_V31  Line_Voltage_Average  V1 THD  \\\n",
      "29698             194.6             195.1                 194.9     0.9   \n",
      "29699             194.6             195.0                 194.8     0.9   \n",
      "29700             194.7             195.1                 194.9     0.9   \n",
      "29701             194.8             195.2                 195.0     0.9   \n",
      "29702             194.8             195.2                 195.0     0.9   \n",
      "...                 ...               ...                   ...     ...   \n",
      "31132             193.8             194.3                 194.0     0.8   \n",
      "31133             193.8             194.3                 194.0     0.8   \n",
      "31134             194.0             194.5                 194.2     0.9   \n",
      "31135             194.1             194.7                 194.4     0.9   \n",
      "31136             194.2             194.8                 194.5     0.9   \n",
      "\n",
      "       V2 THD  V3 THD  Vavg THD  \n",
      "29698     0.9     0.8       0.9  \n",
      "29699     0.9     0.9       0.9  \n",
      "29700     1.0     0.9       0.9  \n",
      "29701     0.9     0.8       0.9  \n",
      "29702     0.9     0.8       0.9  \n",
      "...       ...     ...       ...  \n",
      "31132     0.8     0.7       0.8  \n",
      "31133     0.8     0.7       0.8  \n",
      "31134     0.9     0.8       0.9  \n",
      "31135     0.9     0.8       0.9  \n",
      "31136     1.0     0.9       0.9  \n",
      "\n",
      "[1439 rows x 13 columns]\n"
     ]
    }
   ],
   "source": [
    "Date_df = Basic_Voltage_df[Basic_Voltage_df['Time'].dt.normalize() == pd.to_datetime('2022-05-02').normalize()]\n",
    "print(Date_df)"
   ]
  },
  {
   "cell_type": "code",
   "execution_count": 12,
   "id": "5ab750db",
   "metadata": {
    "execution": {
     "iopub.execute_input": "2024-12-25T06:33:20.086677Z",
     "iopub.status.busy": "2024-12-25T06:33:20.086349Z",
     "iopub.status.idle": "2024-12-25T06:33:22.259376Z",
     "shell.execute_reply": "2024-12-25T06:33:22.258343Z"
    },
    "papermill": {
     "duration": 2.181751,
     "end_time": "2024-12-25T06:33:22.261283",
     "exception": false,
     "start_time": "2024-12-25T06:33:20.079532",
     "status": "completed"
    },
    "tags": []
   },
   "outputs": [
    {
     "data": {
      "text/plain": [
       "<Axes: xlabel='Time', ylabel='Phase_Voltage_Average'>"
      ]
     },
     "execution_count": 12,
     "metadata": {},
     "output_type": "execute_result"
    },
    {
     "data": {
      "image/png": "[encoded data removed]",
      "text/plain": [
       "<Figure size 1600x800 with 1 Axes>"
      ]
     },
     "metadata": {},
     "output_type": "display_data"
    }
   ],
   "source": [
    "import seaborn as sns\n",
    "sns.set(rc={\"figure.figsize\": (16, 8)})\n",
    "sns.set_theme(style=\"darkgrid\")\n",
    "\n",
    "sns.scatterplot(data=Date_df, x=\"Time\", y=\"Phase_Voltage_Average\")"
   ]
  },
  {
   "cell_type": "code",
   "execution_count": 13,
   "id": "a797abfc",
   "metadata": {
    "execution": {
     "iopub.execute_input": "2024-12-25T06:33:22.278651Z",
     "iopub.status.busy": "2024-12-25T06:33:22.278107Z",
     "iopub.status.idle": "2024-12-25T06:33:22.852334Z",
     "shell.execute_reply": "2024-12-25T06:33:22.851230Z"
    },
    "papermill": {
     "duration": 0.585264,
     "end_time": "2024-12-25T06:33:22.854433",
     "exception": false,
     "start_time": "2024-12-25T06:33:22.269169",
     "status": "completed"
    },
    "tags": []
   },
   "outputs": [
    {
     "data": {
      "text/plain": [
       "<matplotlib.collections.PathCollection at 0x7bb9b61ba530>"
      ]
     },
     "execution_count": 13,
     "metadata": {},
     "output_type": "execute_result"
    },
    {
     "data": {
      "image/png": "[encoded data removed]",
      "text/plain": [
       "<Figure size 1600x800 with 1 Axes>"
      ]
     },
     "metadata": {},
     "output_type": "display_data"
    }
   ],
   "source": [
    "import matplotlib.pyplot as plt\n",
    "\n",
    "plt.figure(figsize=(16, 8))\n",
    "plt.scatter(Date_df['Time'], Date_df['Phase_Voltage_V1'], label='V1', marker='.')\n",
    "plt.scatter(Date_df['Time'], Date_df['Phase_Voltage_V2'], label='V2', marker='.')\n",
    "plt.scatter(Date_df['Time'], Date_df['Phase_Voltage_V3'], label='V3', marker='.')\n",
    "plt.scatter(Date_df['Time'], Date_df['Phase_Voltage_Average'], label='Vavg', marker='.')"
   ]
  },
  {
   "cell_type": "code",
   "execution_count": 14,
   "id": "9fba57d6",
   "metadata": {
    "execution": {
     "iopub.execute_input": "2024-12-25T06:33:22.877145Z",
     "iopub.status.busy": "2024-12-25T06:33:22.876720Z",
     "iopub.status.idle": "2024-12-25T06:33:23.424613Z",
     "shell.execute_reply": "2024-12-25T06:33:23.423556Z"
    },
    "papermill": {
     "duration": 0.56101,
     "end_time": "2024-12-25T06:33:23.426542",
     "exception": false,
     "start_time": "2024-12-25T06:33:22.865532",
     "status": "completed"
    },
    "tags": []
   },
   "outputs": [
    {
     "data": {
      "text/plain": [
       "<matplotlib.collections.PathCollection at 0x7bb9b3b66e30>"
      ]
     },
     "execution_count": 14,
     "metadata": {},
     "output_type": "execute_result"
    },
    {
     "data": {
      "image/png": "[encoded data removed]",
      "text/plain": [
       "<Figure size 1600x800 with 1 Axes>"
      ]
     },
     "metadata": {},
     "output_type": "display_data"
    }
   ],
   "source": [
    "plt.scatter(Date_df['Time'], Date_df['V1 THD'], label='V1', marker='.')\n",
    "plt.scatter(Date_df['Time'], Date_df['V2 THD'], label='V2', marker='.')\n",
    "plt.scatter(Date_df['Time'], Date_df['V3 THD'], label='V3', marker='.')\n",
    "plt.scatter(Date_df['Time'], Date_df['Vavg THD'], label='Vavg', marker='.')"
   ]
  },
  {
   "cell_type": "markdown",
   "id": "f69f52d0",
   "metadata": {
    "papermill": {
     "duration": 0.010848,
     "end_time": "2024-12-25T06:33:23.448720",
     "exception": false,
     "start_time": "2024-12-25T06:33:23.437872",
     "status": "completed"
    },
    "tags": []
   },
   "source": [
    "I want to divide data to each day Time-Parameter"
   ]
  },
  {
   "cell_type": "code",
   "execution_count": 15,
   "id": "e68bbb01",
   "metadata": {
    "execution": {
     "iopub.execute_input": "2024-12-25T06:33:23.472259Z",
     "iopub.status.busy": "2024-12-25T06:33:23.471905Z",
     "iopub.status.idle": "2024-12-25T06:33:23.623240Z",
     "shell.execute_reply": "2024-12-25T06:33:23.621850Z"
    },
    "papermill": {
     "duration": 0.165004,
     "end_time": "2024-12-25T06:33:23.624947",
     "exception": false,
     "start_time": "2024-12-25T06:33:23.459943",
     "status": "completed"
    },
    "tags": []
   },
   "outputs": [
    {
     "name": "stdout",
     "output_type": "stream",
     "text": [
      "Plot: 264\n",
      "Example: 1437\n",
      "Date: 264\n",
      "Example: 2022-04-01\n"
     ]
    }
   ],
   "source": [
    "Grouped = Basic_Voltage_df.groupby(by = Basic_Voltage_df['Time'].dt.date)\n",
    "#print (type(Grouped))\n",
    "\n",
    "PlotData = [] #Dataframe for date\n",
    "Date = []\n",
    "\n",
    "\n",
    "for date, group in Grouped:\n",
    "    PlotData.append(group)\n",
    "    Date.append(date)\n",
    "\n",
    "print (f\"Plot: {len(PlotData)}\")\n",
    "print (f\"Example: {PlotData[0]['Time'].count()}\")\n",
    "print (f\"Date: {len(Date)}\")\n",
    "print (f\"Example: {Date[0]}\")"
   ]
  },
  {
   "cell_type": "markdown",
   "id": "42c96eed",
   "metadata": {
    "papermill": {
     "duration": 0.010867,
     "end_time": "2024-12-25T06:33:23.647243",
     "exception": false,
     "start_time": "2024-12-25T06:33:23.636376",
     "status": "completed"
    },
    "tags": []
   },
   "source": [
    "Because the Energy management system may miss the data sometimes, try to find out them"
   ]
  },
  {
   "cell_type": "code",
   "execution_count": 16,
   "id": "effa5195",
   "metadata": {
    "execution": {
     "iopub.execute_input": "2024-12-25T06:33:23.672839Z",
     "iopub.status.busy": "2024-12-25T06:33:23.672456Z",
     "iopub.status.idle": "2024-12-25T06:33:23.768024Z",
     "shell.execute_reply": "2024-12-25T06:33:23.766694Z"
    },
    "papermill": {
     "duration": 0.111321,
     "end_time": "2024-12-25T06:33:23.769993",
     "exception": false,
     "start_time": "2024-12-25T06:33:23.658672",
     "status": "completed"
    },
    "tags": []
   },
   "outputs": [
    {
     "name": "stdout",
     "output_type": "stream",
     "text": [
      "[400, 895, 997, 1267, 1275]\n",
      "Found out: 2022-04-01 06:40:00, Next is 2022-04-01 06:42:00\n",
      "Found out: 2022-04-01 14:56:00, Next is 2022-04-01 14:58:00\n",
      "Found out: 2022-04-01 16:39:00, Next is 2022-04-01 16:41:00\n",
      "Found out: 2022-04-01 21:10:00, Next is 2022-04-01 21:12:00\n",
      "Found out: 2022-04-01 21:18:00, Next is 2022-04-01 21:20:00\n",
      "[1271, 1295]\n",
      "Found out: 2022-04-01 21:15:00, Next is 2022-04-01 21:15:00\n",
      "Found out: 2022-04-01 21:39:00, Next is 2022-04-01 21:39:00\n"
     ]
    }
   ],
   "source": [
    "OneMinute = pd.Timedelta( minutes = 1)\n",
    "Miss = []\n",
    "Dup = []\n",
    "\n",
    "for i in range(len(PlotData[0]['Time'])-1):\n",
    "    if (PlotData[0]['Time'][i+1]-PlotData[0]['Time'][i] > OneMinute):\n",
    "        Miss.append(i)\n",
    "\n",
    "print(Miss)\n",
    "\n",
    "for i in Miss:\n",
    "    print(f\"Found out: {PlotData[0]['Time'][i]}, Next is {PlotData[0]['Time'][i+1]}\")\n",
    "\n",
    "# Check Duplicated data\n",
    "any(PlotData[0].duplicated(subset=['Time']))\n",
    "\n",
    "for i in range(len(PlotData[0]['Time'])-1):\n",
    "    if (str(PlotData[0]['Time'][i+1]) == str(PlotData[0]['Time'][i])):\n",
    "        Dup.append(i)\n",
    "        \n",
    "print(Dup)\n",
    "\n",
    "for i in Dup:\n",
    "    print(f\"Found out: {PlotData[0]['Time'][i]}, Next is {PlotData[0]['Time'][i+1]}\")"
   ]
  },
  {
   "cell_type": "markdown",
   "id": "6a4cc4a3",
   "metadata": {
    "papermill": {
     "duration": 0.011081,
     "end_time": "2024-12-25T06:33:23.792782",
     "exception": false,
     "start_time": "2024-12-25T06:33:23.781701",
     "status": "completed"
    },
    "tags": []
   },
   "source": [
    "There are Missing value and Duplicated value shall be solved"
   ]
  }
 ],
 "metadata": {
  "kaggle": {
   "accelerator": "none",
   "dataSources": [
    {
     "datasetId": 6334092,
     "sourceId": 10242334,
     "sourceType": "datasetVersion"
    }
   ],
   "dockerImageVersionId": 30822,
   "isGpuEnabled": false,
   "isInternetEnabled": true,
   "language": "python",
   "sourceType": "notebook"
  },
  "kernelspec": {
   "display_name": "Python 3",
   "language": "python",
   "name": "python3"
  },
  "language_info": {
   "codemirror_mode": {
    "name": "ipython",
    "version": 3
   },
   "file_extension": ".py",
   "mimetype": "text/x-python",
   "name": "python",
   "nbconvert_exporter": "python",
   "pygments_lexer": "ipython3",
   "version": "3.10.12"
  },
  "papermill": {
   "default_parameters": {},
   "duration": 84.317679,
   "end_time": "2024-12-25T06:33:26.323478",
   "environment_variables": {},
   "exception": null,
   "input_path": "__notebook__.ipynb",
   "output_path": "__notebook__.ipynb",
   "parameters": {},
   "start_time": "2024-12-25T06:32:02.005799",
   "version": "2.6.0"
  }
 },
 "nbformat": 4,
 "nbformat_minor": 5
}
